{
 "cells": [
  {
   "cell_type": "code",
   "execution_count": 28,
   "id": "462096db-e30a-4362-aed0-f5aa6daf5598",
   "metadata": {},
   "outputs": [
    {
     "name": "stdout",
     "output_type": "stream",
     "text": [
      "The autoreload extension is already loaded. To reload it, use:\n",
      "  %reload_ext autoreload\n"
     ]
    }
   ],
   "source": [
    "import sys\n",
    "sys.path.append('../')\n",
    "\n",
    "import os\n",
    "from glob import glob\n",
    "from tqdm import tqdm\n",
    "\n",
    "from utils.elastix import excute_cmd, register_elastix, control_points_transformix\n",
    "from utils.filemanager import create_directory_if_not_exists, replace_text_in_file\n",
    "\n",
    "# To allow auto reload to this notebook after modifying any external file imported\n",
    "%load_ext autoreload\n",
    "%autoreload 2"
   ]
  },
  {
   "cell_type": "code",
   "execution_count": 34,
   "id": "909cbb4f-9c0f-4cb4-af92-77d0404f7949",
   "metadata": {},
   "outputs": [
    {
     "name": "stdout",
     "output_type": "stream",
     "text": [
      "elastix version: 4.200\n",
      "\n",
      "elastix registers a moving image to a fixed image.\n",
      "The registration-process is specified in the parameter file.\n",
      "\n",
      "Call elastix from the command line with mandatory arguments:\n",
      "-f        fixed image\n",
      "-m        moving image\n",
      "-out      output directory\n",
      "-p        parameter file, elastix handles 1 or more \"-p\"\n",
      "\n",
      "Optional extra commands:\n",
      "-fMask    mask for fixed image\n",
      "-mMask    mask for moving image\n",
      "-t0       parameter file for initial transform\n",
      "-priority set the process priority to high or belownormal (Windows only)\n",
      "-threads  set the maximum number of threads of elastix\n",
      "\n",
      "The parameter-file must contain all the information necessary for elastix to run properly. That includes which metric to use, which optimizer, which transform, etc.\n",
      "It must also contain information specific for the metric, optimizer, transform, ...\n",
      "For a usable parameter-file, see the website.\n",
      "\n",
      "Need further help? Check the website http://elastix.isi.uu.nl, or mail elastix.support@gmail.com.\n",
      "\n"
     ]
    }
   ],
   "source": [
    "print(excute_cmd('elastix --help'))"
   ]
  },
  {
   "cell_type": "code",
   "execution_count": 2,
   "id": "f6de91c5-99a1-44a4-835b-003484259d8f",
   "metadata": {},
   "outputs": [
    {
     "data": {
      "text/plain": [
       "['copd1', 'copd2', 'copd3', 'copd4']"
      ]
     },
     "execution_count": 2,
     "metadata": {},
     "output_type": "execute_result"
    }
   ],
   "source": [
    "os.listdir('../niftiData/')"
   ]
  },
  {
   "cell_type": "code",
   "execution_count": 5,
   "id": "e0a91904-951a-4d33-b1a5-bd67d4882574",
   "metadata": {},
   "outputs": [],
   "source": [
    "train_path = '../niftiData'\n",
    "\n",
    "# prepare the paths\n",
    "exhale_volumes = [path.replace('\\\\', '/') for path in sorted(glob(os.path.join(train_path, \"***\" , \"*eBHCT.nii.gz\"), recursive=True))]\n",
    "inhale_volumes = [path.replace('\\\\', '/') for path in sorted(glob(os.path.join(train_path, \"***\" , \"*iBHCT.nii.gz\"), recursive=True))]"
   ]
  },
  {
   "cell_type": "code",
   "execution_count": 8,
   "id": "a22fdc2b-985f-43b7-8156-2634f5a72a1a",
   "metadata": {},
   "outputs": [
    {
     "data": {
      "text/plain": [
       "['../niftiData/copd1/copd1_eBHCT.nii.gz',\n",
       " '../niftiData/copd2/copd2_eBHCT.nii.gz',\n",
       " '../niftiData/copd3/copd3_eBHCT.nii.gz',\n",
       " '../niftiData/copd4/copd4_eBHCT.nii.gz']"
      ]
     },
     "execution_count": 8,
     "metadata": {},
     "output_type": "execute_result"
    }
   ],
   "source": [
    "exhale_volumes"
   ]
  },
  {
   "cell_type": "markdown",
   "id": "f8623a82-89cf-46f3-a725-ba597d1af7f3",
   "metadata": {},
   "source": [
    "Register and transform all control points"
   ]
  },
  {
   "cell_type": "code",
   "execution_count": 15,
   "id": "e5db59a9-e5cf-42a9-a050-3f7baa2125aa",
   "metadata": {},
   "outputs": [
    {
     "data": {
      "text/plain": [
       "['Par0003', 'Par0004', 'Par0007', 'Par0011']"
      ]
     },
     "execution_count": 15,
     "metadata": {},
     "output_type": "execute_result"
    }
   ],
   "source": [
    "os.listdir('../elastix-parameters')"
   ]
  },
  {
   "cell_type": "markdown",
   "id": "0ef9a44a-9744-4cf0-baa3-c0c6dc61cb85",
   "metadata": {},
   "source": [
    "As we have alot of parameters that are suitable for CT registration. We can experiment them and see which performs the best."
   ]
  },
  {
   "cell_type": "markdown",
   "id": "958ed2e8-ad26-41b2-9e8f-aef59821bc9a",
   "metadata": {},
   "source": [
    "Experimenting Par0003 models with elastix and transformix."
   ]
  },
  {
   "cell_type": "code",
   "execution_count": 18,
   "id": "07d4c336-376a-4023-9037-d26f1be5ef00",
   "metadata": {},
   "outputs": [
    {
     "data": {
      "text/plain": [
       "'../elastix-parameters/Par0003'"
      ]
     },
     "execution_count": 18,
     "metadata": {},
     "output_type": "execute_result"
    }
   ],
   "source": [
    "Par0003_base = '../elastix-parameters/Par0003'\n",
    "Par0003_base"
   ]
  },
  {
   "cell_type": "code",
   "execution_count": 19,
   "id": "1ae60b2a-bf6e-4fca-b406-ea346a438f54",
   "metadata": {},
   "outputs": [
    {
     "data": {
      "text/plain": [
       "['404px-Par0003screenshot1.png',\n",
       " 'Par0003.affine.txt',\n",
       " 'Par0003.bs-R1-fg.txt',\n",
       " 'Par0003.bs-R1-ug.txt',\n",
       " 'Par0003.bs-R2-fg.txt',\n",
       " 'Par0003.bs-R2-ug.txt',\n",
       " 'Par0003.bs-R3-fg.txt',\n",
       " 'Par0003.bs-R3-ug.txt',\n",
       " 'Par0003.bs-R4-fg.txt',\n",
       " 'Par0003.bs-R4-ug.txt',\n",
       " 'Par0003.bs-R5-fg.txt',\n",
       " 'Par0003.bs-R5-ug.txt',\n",
       " 'Par0003.bs-R6-fg.txt',\n",
       " 'Par0003.bs-R6-ug.txt',\n",
       " 'Par0003.bs-R7-fg.txt',\n",
       " 'Par0003.bs-R7-ug.txt',\n",
       " 'Par0003.bs-R8-fg.txt',\n",
       " 'Par0003.bs-R8-ug.txt',\n",
       " 'README.md']"
      ]
     },
     "execution_count": 19,
     "metadata": {},
     "output_type": "execute_result"
    }
   ],
   "source": [
    "os.listdir(Par0003_base)"
   ]
  },
  {
   "cell_type": "code",
   "execution_count": 29,
   "id": "6dd8a97b-3946-43d0-a259-4090912ea657",
   "metadata": {},
   "outputs": [
    {
     "data": {
      "text/plain": [
       "'-p \"../elastix-parameters/Par0003/Par0003.affine.txt\"'"
      ]
     },
     "execution_count": 29,
     "metadata": {},
     "output_type": "execute_result"
    }
   ],
   "source": [
    "reg_params = f'-p \"{os.path.join(Par0003_base, \"Par0003.affine.txt\")}\"'.replace('\\\\', '/')\n",
    "reg_params"
   ]
  },
  {
   "cell_type": "code",
   "execution_count": 31,
   "id": "d2cafe5c-bf6c-4172-9d92-d0b887343a7e",
   "metadata": {},
   "outputs": [
    {
     "name": "stderr",
     "output_type": "stream",
     "text": [
      "0it [00:03, ?it/s]"
     ]
    },
    {
     "name": "stdout",
     "output_type": "stream",
     "text": [
      "Command failed with an error: elastix -f \"../niftiData/copd1/copd1_iBHCT.nii.gz\" -m \"../niftiData/copd1/copd1_eBHCT.nii.gz\" -p \"../elastix-parameters/Par0003/Par0003.affine.txt\" -out \"output/images/output_copd1_iBHCT/copd1_eBHCT\"\n",
      "\n"
     ]
    },
    {
     "name": "stderr",
     "output_type": "stream",
     "text": [
      "\n"
     ]
    }
   ],
   "source": [
    "for e_path, i_path in tqdm(zip(exhale_volumes, inhale_volumes)):\n",
    "    # get file name\n",
    "    e_filename_full = e_path.split('/')[-1].split('.')[0] #copd1_eBHCT, ..\n",
    "    i_filename_full = i_path.split('/')[-1].split('.')[0] #copd1_iBHCT, ..\n",
    "\n",
    "    sample_name = i_path.split('/')[-1].split('_')[0] #copd1, copd2, ...\n",
    "\n",
    "    # get control points path from rawData dir\n",
    "    e_cntl_pt = f'../rawData/{sample_name}/{sample_name}_300_eBH_xyz_r1.txt'\n",
    "\n",
    "    '''\n",
    "    elastix is started at Mon Dec 04 20:30:00 2023.\n",
    "    \n",
    "    -------------------------------------------------------------------------\n",
    "    \n",
    "    Running elastix with parameter file 0: \"../elastix-parameters/Par0003/Par0003.affine.txt\".\n",
    "    \n",
    "    Current time: Mon Dec 04 20:30:00 2023.\n",
    "    Reading the elastix parameters from file ...\n",
    "    \n",
    "    Installing all components.\n",
    "    InstallingComponents was successful.\n",
    "    \n",
    "    ELASTIX version: 4.200\n",
    "    Command line options from ElastixBase:\n",
    "    -f        ../niftiData/copd1/copd1_iBHCT.nii.gz\n",
    "    -m        ../niftiData/copd1/copd1_eBHCT.nii.gz\n",
    "    -fMask    unspecified, so no fixed mask used\n",
    "    -mMask    unspecified, so no moving mask used\n",
    "    -out      output/images/output_copd1_iBHCT/copd1_eBHCT/\n",
    "    -p        ../elastix-parameters/Par0003/Par0003.affine.txt\n",
    "    -priority unspecified, so NORMAL process priority\n",
    "    -threads  unspecified, so all available threads are used\n",
    "    Command line options from TransformBase:\n",
    "    -t0       unspecified, so no initial transform used\n",
    "    \n",
    "    Reading images...\n",
    "    Reading images took 882 ms.\n",
    "    \n",
    "    WARNING: the fixed pyramid schedule is not fully specified!\n",
    "      A default pyramid schedule is used.\n",
    "    WARNING: the moving pyramid schedule is not fully specified!\n",
    "      A default pyramid schedule is used.\n",
    "    WARNING: The parameter \"AutomaticTransformInitializationMethod\", requested at entry number 0, does not exist at all.\n",
    "      The default value \"GeometricalCenter\" is used instead.\n",
    "    Scales are estimated automatically.\n",
    "    Scales for transform parameters are: [8964.941406, 8964.941406, 9375.000000, 8964.941406, 8964.941406, 9375.000000, 8964.941406, 8964.941406, 9375.000000, 1.000000, 1.000000, 1.000000]\n",
    "    Initialization of all components (before registration) took: 32 ms.\n",
    "    \n",
    "    itk::ExceptionObject (017EF938)\n",
    "    Location: \"ElastixTemplate - Run()\"\n",
    "    File: d:\\tk\\itk\\3.14\\src\\code\\common\\itkImportImageContainer.txx\n",
    "    Line: 188\n",
    "    Description: Failed to allocate memory for image.\n",
    "    \n",
    "    Error occurred during actual registration.\n",
    "    \n",
    "    \n",
    "    Errors occurred!\n",
    "    '''\n",
    "\n",
    "    # elastix registration\n",
    "    register_elastix(\n",
    "        fixed_path = i_path, \n",
    "        moving_path = e_path, \n",
    "        # fMask = test_mask,\n",
    "        reg_params = reg_params,\n",
    "        create_dir_callback = create_directory_if_not_exists,\n",
    "        excute_cmd_callback = excute_cmd)\n",
    "\n",
    "    # # transformix control point transformation\n",
    "    # control_points_transformix(\n",
    "    #     fixed_path = i_path, \n",
    "    #     moving_path = e_path, \n",
    "    #     input_points = e_cntl_pt,\n",
    "    #     transform_path = f'output/images/output_{sample_name}/{e_filename_full}/TransformParameters.1.txt',\n",
    "    #     replace_text_in_file_callback = replace_text_in_file,\n",
    "    #     create_dir_callback = create_directory_if_not_exists, \n",
    "    #     excute_cmd_callback = excute_cmd)\n",
    "\n",
    "    break\n",
    "    "
   ]
  }
 ],
 "metadata": {
  "kernelspec": {
   "display_name": "Python 3 (ipykernel)",
   "language": "python",
   "name": "python3"
  },
  "language_info": {
   "codemirror_mode": {
    "name": "ipython",
    "version": 3
   },
   "file_extension": ".py",
   "mimetype": "text/x-python",
   "name": "python",
   "nbconvert_exporter": "python",
   "pygments_lexer": "ipython3",
   "version": "3.10.4"
  }
 },
 "nbformat": 4,
 "nbformat_minor": 5
}
